{
 "cells": [
  {
   "cell_type": "markdown",
   "id": "c6c3cad3",
   "metadata": {},
   "source": [
    "# Exploratory Data Analysis (EDA)\n",
    "## Intuition\n",
    "* We do this to understand the signals and nuances of our dataset\n",
    "* Cyclical process that can be done at various points of our dev process (before/after labelling, preprocessing, etc. depending on how well our problem is defined. \n",
    "* *For example* : if we don't know how to label or preprocess our data, EDA can help us. \n",
    "\n",
    "Traditionally, our data assets will be stored, versioned and updated in a database, warehouse, etc. We'll learn more about these different data management systems later, but for now, we'll load our data as a JSON file from our repository."
   ]
  },
  {
   "cell_type": "code",
   "execution_count": 2,
   "id": "a4236051",
   "metadata": {},
   "outputs": [],
   "source": [
    "from collections import Counter\n",
    "import ipywidgets as widgets\n",
    "import itertools\n",
    "import json\n",
    "import pandas as pd\n",
    "from urllib.request import urlopen\n"
   ]
  },
  {
   "cell_type": "code",
   "execution_count": 3,
   "id": "b97a0215",
   "metadata": {},
   "outputs": [
    {
     "name": "stdout",
     "output_type": "stream",
     "text": [
      "955 projects\n",
      "{\n",
      "  \"id\": 6,\n",
      "  \"created_on\": \"2020-02-20 06:43:18\",\n",
      "  \"title\": \"Comparison between YOLO and RCNN on real world videos\",\n",
      "  \"description\": \"Bringing theory to experiment is cool. We can easily train models in colab and find the results in minutes.\",\n",
      "  \"tag\": \"computer-vision\"\n",
      "}\n"
     ]
    }
   ],
   "source": [
    "# Load projects\n",
    "url = \"https://raw.githubusercontent.com/GokuMohandas/Made-With-ML/main/datasets/projects.json\"\n",
    "projects = json.loads(urlopen(url).read())\n",
    "print (f\"{len(projects)} projects\")\n",
    "print (json.dumps(projects[0], indent=2))\n"
   ]
  },
  {
   "cell_type": "code",
   "execution_count": 4,
   "id": "836461db",
   "metadata": {},
   "outputs": [
    {
     "name": "stdout",
     "output_type": "stream",
     "text": [
      "955 projects\n"
     ]
    },
    {
     "data": {
      "text/html": [
       "<div>\n",
       "<style scoped>\n",
       "    .dataframe tbody tr th:only-of-type {\n",
       "        vertical-align: middle;\n",
       "    }\n",
       "\n",
       "    .dataframe tbody tr th {\n",
       "        vertical-align: top;\n",
       "    }\n",
       "\n",
       "    .dataframe thead th {\n",
       "        text-align: right;\n",
       "    }\n",
       "</style>\n",
       "<table border=\"1\" class=\"dataframe\">\n",
       "  <thead>\n",
       "    <tr style=\"text-align: right;\">\n",
       "      <th></th>\n",
       "      <th>id</th>\n",
       "      <th>created_on</th>\n",
       "      <th>title</th>\n",
       "      <th>description</th>\n",
       "      <th>tag</th>\n",
       "    </tr>\n",
       "  </thead>\n",
       "  <tbody>\n",
       "    <tr>\n",
       "      <th>0</th>\n",
       "      <td>6</td>\n",
       "      <td>2020-02-20 06:43:18</td>\n",
       "      <td>Comparison between YOLO and RCNN on real world...</td>\n",
       "      <td>Bringing theory to experiment is cool. We can ...</td>\n",
       "      <td>computer-vision</td>\n",
       "    </tr>\n",
       "    <tr>\n",
       "      <th>1</th>\n",
       "      <td>7</td>\n",
       "      <td>2020-02-20 06:47:21</td>\n",
       "      <td>Show, Infer &amp; Tell: Contextual Inference for C...</td>\n",
       "      <td>The beauty of the work lies in the way it arch...</td>\n",
       "      <td>computer-vision</td>\n",
       "    </tr>\n",
       "    <tr>\n",
       "      <th>2</th>\n",
       "      <td>9</td>\n",
       "      <td>2020-02-24 16:24:45</td>\n",
       "      <td>Awesome Graph Classification</td>\n",
       "      <td>A collection of important graph embedding, cla...</td>\n",
       "      <td>graph-learning</td>\n",
       "    </tr>\n",
       "    <tr>\n",
       "      <th>3</th>\n",
       "      <td>15</td>\n",
       "      <td>2020-02-28 23:55:26</td>\n",
       "      <td>Awesome Monte Carlo Tree Search</td>\n",
       "      <td>A curated list of Monte Carlo tree search pape...</td>\n",
       "      <td>reinforcement-learning</td>\n",
       "    </tr>\n",
       "    <tr>\n",
       "      <th>4</th>\n",
       "      <td>19</td>\n",
       "      <td>2020-03-03 13:54:31</td>\n",
       "      <td>Diffusion to Vector</td>\n",
       "      <td>Reference implementation of Diffusion2Vec (Com...</td>\n",
       "      <td>graph-learning</td>\n",
       "    </tr>\n",
       "  </tbody>\n",
       "</table>\n",
       "</div>"
      ],
      "text/plain": [
       "   id           created_on                                              title  \\\n",
       "0   6  2020-02-20 06:43:18  Comparison between YOLO and RCNN on real world...   \n",
       "1   7  2020-02-20 06:47:21  Show, Infer & Tell: Contextual Inference for C...   \n",
       "2   9  2020-02-24 16:24:45                       Awesome Graph Classification   \n",
       "3  15  2020-02-28 23:55:26                    Awesome Monte Carlo Tree Search   \n",
       "4  19  2020-03-03 13:54:31                                Diffusion to Vector   \n",
       "\n",
       "                                         description                     tag  \n",
       "0  Bringing theory to experiment is cool. We can ...         computer-vision  \n",
       "1  The beauty of the work lies in the way it arch...         computer-vision  \n",
       "2  A collection of important graph embedding, cla...          graph-learning  \n",
       "3  A curated list of Monte Carlo tree search pape...  reinforcement-learning  \n",
       "4  Reference implementation of Diffusion2Vec (Com...          graph-learning  "
      ]
     },
     "execution_count": 4,
     "metadata": {},
     "output_type": "execute_result"
    }
   ],
   "source": [
    "# Create dataframe\n",
    "df = pd.DataFrame(projects)\n",
    "print (f\"{len(df)} projects\")\n",
    "df.head(5)"
   ]
  },
  {
   "cell_type": "markdown",
   "id": "353c193e",
   "metadata": {},
   "source": [
    "## Data Imbalance"
   ]
  },
  {
   "cell_type": "code",
   "execution_count": 5,
   "id": "cfc331e1",
   "metadata": {},
   "outputs": [
    {
     "data": {
      "text/plain": [
       "[('natural-language-processing', 388),\n",
       " ('computer-vision', 356),\n",
       " ('mlops', 79),\n",
       " ('reinforcement-learning', 56),\n",
       " ('graph-learning', 45),\n",
       " ('time-series', 31)]"
      ]
     },
     "execution_count": 5,
     "metadata": {},
     "output_type": "execute_result"
    }
   ],
   "source": [
    "# Most common tags\n",
    "tags = Counter(df.tag.values)\n",
    "tags.most_common()"
   ]
  },
  {
   "cell_type": "markdown",
   "id": "877545e8",
   "metadata": {},
   "source": [
    "we can address this imbalance after splitting into our train split & prior to training the model"
   ]
  },
  {
   "cell_type": "code",
   "execution_count": 7,
   "id": "3e7fcebb",
   "metadata": {},
   "outputs": [
    {
     "name": "stdout",
     "output_type": "stream",
     "text": [
      "{'computer-vision': {'aliases': ['cv', 'vision']}, 'graph-learning': {'aliases': ['graphs']}, 'mlops': {'aliases': ['production']}, 'natural-language-processing': {'aliases': ['nlp', 'nlproc']}}\n",
      "4 tags\n"
     ]
    }
   ],
   "source": [
    "# Load tags\n",
    "url = \"https://raw.githubusercontent.com/GokuMohandas/Made-With-ML/main/datasets/tags.json\"\n",
    "tags_dict = {}\n",
    "for item in json.loads(urlopen(url).read()):\n",
    "    key = item.pop(\"tag\")\n",
    "    tags_dict[key] = item\n",
    "print (tags_dict)\n",
    "print (f\"{len(tags_dict)} tags\")"
   ]
  },
  {
   "cell_type": "code",
   "execution_count": 8,
   "id": "65b12aba",
   "metadata": {},
   "outputs": [
    {
     "data": {
      "application/vnd.jupyter.widget-view+json": {
       "model_id": "e39f2e9f297f4753aad192e1189c5cc8",
       "version_major": 2,
       "version_minor": 0
      },
      "text/plain": [
       "interactive(children=(Dropdown(description='tag', options=('computer-vision', 'graph-learning', 'mlops', 'natu…"
      ]
     },
     "metadata": {},
     "output_type": "display_data"
    }
   ],
   "source": [
    "@widgets.interact(tag=list(tags_dict.keys()))\n",
    "def display_tag_details(tag=\"computer-vision\"):\n",
    "    print (json.dumps(tags_dict[tag], indent=2))\n"
   ]
  },
  {
   "cell_type": "markdown",
   "id": "b3c957a6",
   "metadata": {},
   "source": [
    "It's important that aux info about our tags resides in a separate location. This is so everyone can use the same source of truth as it's versioned and kept up to date."
   ]
  },
  {
   "cell_type": "markdown",
   "id": "b97a4352",
   "metadata": {},
   "source": [
    "## Tag Distribution\n",
    "how many data points do we have per tag?"
   ]
  },
  {
   "cell_type": "code",
   "execution_count": 12,
   "id": "34b1a895",
   "metadata": {},
   "outputs": [],
   "source": [
    "import matplotlib.pyplot as plt\n",
    "import seaborn as sns\n",
    "import warnings\n",
    "from wordcloud import WordCloud, STOPWORDS\n",
    "sns.set_theme()\n",
    "warnings.filterwarnings(\"ignore\")\n"
   ]
  },
  {
   "cell_type": "code",
   "execution_count": 13,
   "id": "d2e673d2",
   "metadata": {},
   "outputs": [
    {
     "data": {
      "image/png": "[encoded data removed]",
      "text/plain": [
       "<Figure size 720x216 with 1 Axes>"
      ]
     },
     "metadata": {
      "needs_background": "light"
     },
     "output_type": "display_data"
    }
   ],
   "source": [
    "# Distribution of tags\n",
    "tags, tag_counts = zip(*Counter(df.tag.values).most_common())\n",
    "plt.figure(figsize=(10, 3))\n",
    "ax = sns.barplot(list(tags), list(tag_counts))\n",
    "plt.title(\"Tag distribution\", fontsize=20)\n",
    "plt.xlabel(\"Tag\", fontsize=16)\n",
    "ax.set_xticklabels(tags, rotation=90, fontsize=14)\n",
    "plt.ylabel(\"Number of projects\", fontsize=16)\n",
    "plt.show()\n"
   ]
  },
  {
   "cell_type": "code",
   "execution_count": 14,
   "id": "386c30aa",
   "metadata": {},
   "outputs": [
    {
     "data": {
      "application/vnd.jupyter.widget-view+json": {
       "model_id": "229d18fab6d54537a85e30032c4bd07c",
       "version_major": 2,
       "version_minor": 0
      },
      "text/plain": [
       "interactive(children=(Dropdown(description='tag', options=('natural-language-processing', 'computer-vision', '…"
      ]
     },
     "metadata": {},
     "output_type": "display_data"
    }
   ],
   "source": [
    "# Most frequent tokens for each tag\n",
    "@widgets.interact(tag=list(tags))\n",
    "def display_word_cloud(tag=\"natural-language-processing\"):\n",
    "    # Plot word clouds top top tags\n",
    "    plt.figure(figsize=(15, 5))\n",
    "    subset = df[df.tag==tag]\n",
    "    text = subset.title.values\n",
    "    cloud = WordCloud(\n",
    "        stopwords=STOPWORDS, background_color=\"black\", collocations=False,\n",
    "        width=500, height=300).generate(\" \".join(text))\n",
    "    plt.axis(\"off\")\n",
    "    plt.imshow(cloud)\n"
   ]
  },
  {
   "cell_type": "code",
   "execution_count": null,
   "id": "1a413a04",
   "metadata": {},
   "outputs": [],
   "source": []
  }
 ],
 "metadata": {
  "kernelspec": {
   "display_name": "Python 3 (ipykernel)",
   "language": "python",
   "name": "python3"
  },
  "language_info": {
   "codemirror_mode": {
    "name": "ipython",
    "version": 3
   },
   "file_extension": ".py",
   "mimetype": "text/x-python",
   "name": "python",
   "nbconvert_exporter": "python",
   "pygments_lexer": "ipython3",
   "version": "3.9.13"
  }
 },
 "nbformat": 4,
 "nbformat_minor": 5
}
